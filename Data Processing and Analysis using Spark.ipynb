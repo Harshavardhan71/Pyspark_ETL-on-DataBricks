{
 "cells": [
  {
   "cell_type": "code",
   "execution_count": 0,
   "metadata": {
    "application/vnd.databricks.v1+cell": {
     "cellMetadata": {
      "byteLimit": 2048000,
      "rowLimit": 10000
     },
     "inputWidgets": {},
     "nuid": "7a5e6df1-f88d-48b7-9aa2-b813d32113a2",
     "showTitle": false,
     "title": ""
    }
   },
   "outputs": [
    {
     "output_type": "display_data",
     "data": {
      "text/html": [
       "<style scoped>\n",
       "  .table-result-container {\n",
       "    max-height: 300px;\n",
       "    overflow: auto;\n",
       "  }\n",
       "  table, th, td {\n",
       "    border: 1px solid black;\n",
       "    border-collapse: collapse;\n",
       "  }\n",
       "  th, td {\n",
       "    padding: 5px;\n",
       "  }\n",
       "  th {\n",
       "    text-align: left;\n",
       "  }\n",
       "</style><div class='table-result-container'><table class='table-result'><thead style='background-color: white'><tr><th>path</th><th>name</th><th>size</th><th>modificationTime</th></tr></thead><tbody><tr><td>dbfs:/FileStore/tables/Data/</td><td>Data/</td><td>0</td><td>0</td></tr><tr><td>dbfs:/FileStore/tables/customers.txt</td><td>customers.txt</td><td>953719</td><td>1727672700000</td></tr><tr><td>dbfs:/FileStore/tables/order_items.txt</td><td>order_items.txt</td><td>5408880</td><td>1727672703000</td></tr><tr><td>dbfs:/FileStore/tables/orders.txt</td><td>orders.txt</td><td>2999944</td><td>1727672703000</td></tr></tbody></table></div>"
      ]
     },
     "metadata": {
      "application/vnd.databricks.v1+output": {
       "addedWidgets": {},
       "aggData": [],
       "aggError": "",
       "aggOverflow": false,
       "aggSchema": [],
       "aggSeriesLimitReached": false,
       "aggType": "",
       "arguments": {},
       "columnCustomDisplayInfos": {},
       "data": [
        [
         "dbfs:/FileStore/tables/Data/",
         "Data/",
         0,
         0
        ],
        [
         "dbfs:/FileStore/tables/customers.txt",
         "customers.txt",
         953719,
         1727672700000
        ],
        [
         "dbfs:/FileStore/tables/order_items.txt",
         "order_items.txt",
         5408880,
         1727672703000
        ],
        [
         "dbfs:/FileStore/tables/orders.txt",
         "orders.txt",
         2999944,
         1727672703000
        ]
       ],
       "datasetInfos": [],
       "dbfsResultPath": null,
       "isJsonSchema": true,
       "metadata": {
        "isDbfsCommandResult": false
       },
       "overflow": false,
       "plotOptions": {
        "customPlotOptions": {},
        "displayType": "table",
        "pivotAggregation": null,
        "pivotColumns": null,
        "xColumns": null,
        "yColumns": null
       },
       "removedWidgets": [],
       "schema": [
        {
         "metadata": "{}",
         "name": "path",
         "type": "\"string\""
        },
        {
         "metadata": "{}",
         "name": "name",
         "type": "\"string\""
        },
        {
         "metadata": "{}",
         "name": "size",
         "type": "\"long\""
        },
        {
         "metadata": "{}",
         "name": "modificationTime",
         "type": "\"long\""
        }
       ],
       "type": "table"
      }
     },
     "output_type": "display_data"
    }
   ],
   "source": [
    "%fs ls dbfs:/FileStore/tables"
   ]
  },
  {
   "cell_type": "code",
   "execution_count": 0,
   "metadata": {
    "application/vnd.databricks.v1+cell": {
     "cellMetadata": {
      "byteLimit": 2048000,
      "rowLimit": 10000
     },
     "inputWidgets": {},
     "nuid": "86c8fa05-c54f-47c5-ac71-e6b7bbf9972b",
     "showTitle": false,
     "title": ""
    }
   },
   "outputs": [],
   "source": [
    "from pyspark.sql.types import StructType, StructField, StringType, IntegerType, FloatType, DateType\n",
    "# Define the schema for the customers DataFrame\n",
    "customer_schema = StructType([\n",
    "    StructField(\"customer_id\", IntegerType(), True),\n",
    "    StructField(\"customer_fname\", StringType(), True),\n",
    "    StructField(\"customer_lname\", StringType(), True),\n",
    "    StructField(\"customer_email\", StringType(), True),\n",
    "    StructField(\"customer_password\", StringType(), True),\n",
    "    StructField(\"customer_street\", StringType(), True),\n",
    "    StructField(\"customer_city\", StringType(), True),\n",
    "    StructField(\"customer_state\", StringType(), True),\n",
    "    StructField(\"customer_zipcode\", IntegerType(), True)\n",
    "])\n",
    "\n",
    "# Define the schema for the orders DataFrame\n",
    "orders_schema = StructType([\n",
    "    StructField(\"order_id\", IntegerType(), True),\n",
    "    StructField(\"order_date\", DateType(), True),\n",
    "    StructField(\"order_customer_id\", IntegerType(), True),\n",
    "    StructField(\"order_status\", StringType(), True)\n",
    "])\n",
    "\n",
    "# Define the schema for the order items DataFrame\n",
    "order_items_schema = StructType([\n",
    "    StructField(\"order_item_id\", IntegerType(), True),\n",
    "    StructField(\"order_item_order_id\", IntegerType(), True),\n",
    "    StructField(\"order_item_product_id\", IntegerType(), True),\n",
    "    StructField(\"order_item_quantity\", IntegerType(), True),\n",
    "    StructField(\"order_item_subtotal\", FloatType(), True),\n",
    "    StructField(\"order_item_product_price\", FloatType(), True)\n",
    "])\n"
   ]
  },
  {
   "cell_type": "code",
   "execution_count": 0,
   "metadata": {
    "application/vnd.databricks.v1+cell": {
     "cellMetadata": {
      "byteLimit": 2048000,
      "rowLimit": 10000
     },
     "inputWidgets": {},
     "nuid": "8e1f1011-20f2-4484-aa22-d3575383a055",
     "showTitle": false,
     "title": ""
    }
   },
   "outputs": [],
   "source": [
    "customer_df = spark.read.format(\"csv\").schema(customer_schema).load(\"/FileStore/tables/customers.txt\")"
   ]
  },
  {
   "cell_type": "code",
   "execution_count": 0,
   "metadata": {
    "application/vnd.databricks.v1+cell": {
     "cellMetadata": {
      "byteLimit": 2048000,
      "rowLimit": 10000
     },
     "inputWidgets": {},
     "nuid": "fa88fd34-d3b4-4da5-b8b7-cb922b4b3097",
     "showTitle": false,
     "title": ""
    }
   },
   "outputs": [
    {
     "output_type": "stream",
     "name": "stdout",
     "output_type": "stream",
     "text": [
      "+-----------+--------------+--------------+--------------+-----------------+--------------------+-------------+--------------+----------------+\n|customer_id|customer_fname|customer_lname|customer_email|customer_password|     customer_street|customer_city|customer_state|customer_zipcode|\n+-----------+--------------+--------------+--------------+-----------------+--------------------+-------------+--------------+----------------+\n|          1|       Richard|     Hernandez|     XXXXXXXXX|        XXXXXXXXX|  6303 Heather Plaza|  Brownsville|            TX|           78521|\n|          2|          Mary|       Barrett|     XXXXXXXXX|        XXXXXXXXX|9526 Noble Embers...|    Littleton|            CO|           80126|\n|          3|           Ann|         Smith|     XXXXXXXXX|        XXXXXXXXX|3422 Blue Pioneer...|       Caguas|            PR|             725|\n|          4|          Mary|         Jones|     XXXXXXXXX|        XXXXXXXXX|  8324 Little Common|   San Marcos|            CA|           92069|\n|          5|        Robert|        Hudson|     XXXXXXXXX|        XXXXXXXXX|10 Crystal River ...|       Caguas|            PR|             725|\n|          6|          Mary|         Smith|     XXXXXXXXX|        XXXXXXXXX|3151 Sleepy Quail...|      Passaic|            NJ|            7055|\n|          7|       Melissa|        Wilcox|     XXXXXXXXX|        XXXXXXXXX|9453 High Concession|       Caguas|            PR|             725|\n|          8|         Megan|         Smith|     XXXXXXXXX|        XXXXXXXXX|3047 Foggy Forest...|     Lawrence|            MA|            1841|\n|          9|          Mary|         Perez|     XXXXXXXXX|        XXXXXXXXX| 3616 Quaking Street|       Caguas|            PR|             725|\n|         10|       Melissa|         Smith|     XXXXXXXXX|        XXXXXXXXX|8598 Harvest Beac...|     Stafford|            VA|           22554|\n|         11|          Mary|       Huffman|     XXXXXXXXX|        XXXXXXXXX|    3169 Stony Woods|       Caguas|            PR|             725|\n|         12|   Christopher|         Smith|     XXXXXXXXX|        XXXXXXXXX|5594 Jagged Ember...|  San Antonio|            TX|           78227|\n|         13|          Mary|       Baldwin|     XXXXXXXXX|        XXXXXXXXX|7922 Iron Oak Gar...|       Caguas|            PR|             725|\n|         14|     Katherine|         Smith|     XXXXXXXXX|        XXXXXXXXX|5666 Hazy Pony Sq...|  Pico Rivera|            CA|           90660|\n|         15|          Jane|          Luna|     XXXXXXXXX|        XXXXXXXXX|    673 Burning Glen|      Fontana|            CA|           92336|\n|         16|       Tiffany|         Smith|     XXXXXXXXX|        XXXXXXXXX|      6651 Iron Port|       Caguas|            PR|             725|\n|         17|          Mary|      Robinson|     XXXXXXXXX|        XXXXXXXXX|     1325 Noble Pike|       Taylor|            MI|           48180|\n|         18|        Robert|         Smith|     XXXXXXXXX|        XXXXXXXXX|2734 Hazy Butterf...|     Martinez|            CA|           94553|\n|         19|     Stephanie|      Mitchell|     XXXXXXXXX|        XXXXXXXXX|3543 Red Treasure...|       Caguas|            PR|             725|\n|         20|          Mary|         Ellis|     XXXXXXXXX|        XXXXXXXXX|      4703 Old Route|West New York|            NJ|            7093|\n+-----------+--------------+--------------+--------------+-----------------+--------------------+-------------+--------------+----------------+\nonly showing top 20 rows\n\n"
     ]
    }
   ],
   "source": [
    "customer_df.show()"
   ]
  },
  {
   "cell_type": "code",
   "execution_count": 0,
   "metadata": {
    "application/vnd.databricks.v1+cell": {
     "cellMetadata": {
      "byteLimit": 2048000,
      "rowLimit": 10000
     },
     "inputWidgets": {},
     "nuid": "b21929ed-9c24-4d27-8c64-0e4ea1b808af",
     "showTitle": false,
     "title": ""
    }
   },
   "outputs": [],
   "source": [
    "orders_df =  spark.read.format(\"csv\").schema(orders_schema).load(\"/FileStore/tables/orders.txt\")"
   ]
  },
  {
   "cell_type": "code",
   "execution_count": 0,
   "metadata": {
    "application/vnd.databricks.v1+cell": {
     "cellMetadata": {
      "byteLimit": 2048000,
      "rowLimit": 10000
     },
     "inputWidgets": {},
     "nuid": "a142bb28-bfdc-45af-8662-d8f9709f7d16",
     "showTitle": false,
     "title": ""
    }
   },
   "outputs": [
    {
     "output_type": "stream",
     "name": "stdout",
     "output_type": "stream",
     "text": [
      "+--------+----------+-----------------+---------------+\n|order_id|order_date|order_customer_id|   order_status|\n+--------+----------+-----------------+---------------+\n|       1|2013-07-25|            11599|         CLOSED|\n|       2|2013-07-25|              256|PENDING_PAYMENT|\n|       3|2013-07-25|            12111|       COMPLETE|\n|       4|2013-07-25|             8827|         CLOSED|\n|       5|2013-07-25|            11318|       COMPLETE|\n|       6|2013-07-25|             7130|       COMPLETE|\n|       7|2013-07-25|             4530|       COMPLETE|\n|       8|2013-07-25|             2911|     PROCESSING|\n|       9|2013-07-25|             5657|PENDING_PAYMENT|\n|      10|2013-07-25|             5648|PENDING_PAYMENT|\n|      11|2013-07-25|              918| PAYMENT_REVIEW|\n|      12|2013-07-25|             1837|         CLOSED|\n|      13|2013-07-25|             9149|PENDING_PAYMENT|\n|      14|2013-07-25|             9842|     PROCESSING|\n|      15|2013-07-25|             2568|       COMPLETE|\n|      16|2013-07-25|             7276|PENDING_PAYMENT|\n|      17|2013-07-25|             2667|       COMPLETE|\n|      18|2013-07-25|             1205|         CLOSED|\n|      19|2013-07-25|             9488|PENDING_PAYMENT|\n|      20|2013-07-25|             9198|     PROCESSING|\n+--------+----------+-----------------+---------------+\nonly showing top 20 rows\n\n"
     ]
    }
   ],
   "source": [
    "orders_df.show()"
   ]
  },
  {
   "cell_type": "code",
   "execution_count": 0,
   "metadata": {
    "application/vnd.databricks.v1+cell": {
     "cellMetadata": {
      "byteLimit": 2048000,
      "rowLimit": 10000
     },
     "inputWidgets": {},
     "nuid": "2c9ceb2d-e8a3-456f-8140-abf80ede0373",
     "showTitle": false,
     "title": ""
    }
   },
   "outputs": [],
   "source": [
    "order_items_df =  spark.read.format(\"csv\").schema(order_items_schema).load(\"/FileStore/tables/order_items.txt\")"
   ]
  },
  {
   "cell_type": "code",
   "execution_count": 0,
   "metadata": {
    "application/vnd.databricks.v1+cell": {
     "cellMetadata": {
      "byteLimit": 2048000,
      "rowLimit": 10000
     },
     "inputWidgets": {},
     "nuid": "e5d42878-bbe5-4967-a985-96dfd15c79cd",
     "showTitle": false,
     "title": ""
    }
   },
   "outputs": [
    {
     "output_type": "stream",
     "name": "stdout",
     "output_type": "stream",
     "text": [
      "+-------------+-------------------+---------------------+-------------------+-------------------+------------------------+\n|order_item_id|order_item_order_id|order_item_product_id|order_item_quantity|order_item_subtotal|order_item_product_price|\n+-------------+-------------------+---------------------+-------------------+-------------------+------------------------+\n|            1|                  1|                  957|                  1|             299.98|                  299.98|\n|            2|                  2|                 1073|                  1|             199.99|                  199.99|\n|            3|                  2|                  502|                  5|              250.0|                    50.0|\n|            4|                  2|                  403|                  1|             129.99|                  129.99|\n|            5|                  4|                  897|                  2|              49.98|                   24.99|\n|            6|                  4|                  365|                  5|             299.95|                   59.99|\n|            7|                  4|                  502|                  3|              150.0|                    50.0|\n|            8|                  4|                 1014|                  4|             199.92|                   49.98|\n|            9|                  5|                  957|                  1|             299.98|                  299.98|\n|           10|                  5|                  365|                  5|             299.95|                   59.99|\n|           11|                  5|                 1014|                  2|              99.96|                   49.98|\n|           12|                  5|                  957|                  1|             299.98|                  299.98|\n|           13|                  5|                  403|                  1|             129.99|                  129.99|\n|           14|                  7|                 1073|                  1|             199.99|                  199.99|\n|           15|                  7|                  957|                  1|             299.98|                  299.98|\n|           16|                  7|                  926|                  5|              79.95|                   15.99|\n|           17|                  8|                  365|                  3|             179.97|                   59.99|\n|           18|                  8|                  365|                  5|             299.95|                   59.99|\n|           19|                  8|                 1014|                  4|             199.92|                   49.98|\n|           20|                  8|                  502|                  1|               50.0|                    50.0|\n+-------------+-------------------+---------------------+-------------------+-------------------+------------------------+\nonly showing top 20 rows\n\n"
     ]
    }
   ],
   "source": [
    "order_items_df.show()"
   ]
  },
  {
   "cell_type": "code",
   "execution_count": 0,
   "metadata": {
    "application/vnd.databricks.v1+cell": {
     "cellMetadata": {
      "byteLimit": 2048000,
      "rowLimit": 10000
     },
     "inputWidgets": {},
     "nuid": "cc30c066-db66-4366-b62d-b22cfa250cec",
     "showTitle": false,
     "title": ""
    }
   },
   "outputs": [
    {
     "output_type": "stream",
     "name": "stdout",
     "output_type": "stream",
     "text": [
      "root\n |-- customer_id: integer (nullable = true)\n |-- customer_fname: string (nullable = true)\n |-- customer_lname: string (nullable = true)\n |-- customer_email: string (nullable = true)\n |-- customer_password: string (nullable = true)\n |-- customer_street: string (nullable = true)\n |-- customer_city: string (nullable = true)\n |-- customer_state: string (nullable = true)\n |-- customer_zipcode: integer (nullable = true)\n\n"
     ]
    }
   ],
   "source": [
    "customer_df.printSchema()"
   ]
  },
  {
   "cell_type": "code",
   "execution_count": 0,
   "metadata": {
    "application/vnd.databricks.v1+cell": {
     "cellMetadata": {
      "byteLimit": 2048000,
      "rowLimit": 10000
     },
     "inputWidgets": {},
     "nuid": "47887aa1-9733-471b-99b9-5b72e5bc66c0",
     "showTitle": false,
     "title": ""
    }
   },
   "outputs": [
    {
     "output_type": "stream",
     "name": "stdout",
     "output_type": "stream",
     "text": [
      "root\n |-- order_id: integer (nullable = true)\n |-- order_date: date (nullable = true)\n |-- order_customer_id: integer (nullable = true)\n |-- order_status: string (nullable = true)\n\n"
     ]
    }
   ],
   "source": [
    "orders_df.printSchema()"
   ]
  },
  {
   "cell_type": "code",
   "execution_count": 0,
   "metadata": {
    "application/vnd.databricks.v1+cell": {
     "cellMetadata": {
      "byteLimit": 2048000,
      "rowLimit": 10000
     },
     "inputWidgets": {},
     "nuid": "94e94953-3f45-44f2-aee0-c6ab9caa5152",
     "showTitle": false,
     "title": ""
    }
   },
   "outputs": [
    {
     "output_type": "stream",
     "name": "stdout",
     "output_type": "stream",
     "text": [
      "root\n |-- order_item_id: integer (nullable = true)\n |-- order_item_order_id: integer (nullable = true)\n |-- order_item_product_id: integer (nullable = true)\n |-- order_item_quantity: integer (nullable = true)\n |-- order_item_subtotal: float (nullable = true)\n |-- order_item_product_price: float (nullable = true)\n\n"
     ]
    }
   ],
   "source": [
    "order_items_df.printSchema()"
   ]
  },
  {
   "cell_type": "code",
   "execution_count": 0,
   "metadata": {
    "application/vnd.databricks.v1+cell": {
     "cellMetadata": {
      "byteLimit": 2048000,
      "rowLimit": 10000
     },
     "inputWidgets": {},
     "nuid": "039e9bc0-6b5f-443d-9484-fd50f0e2f6c7",
     "showTitle": false,
     "title": ""
    }
   },
   "outputs": [],
   "source": []
  },
  {
   "cell_type": "code",
   "execution_count": 0,
   "metadata": {
    "application/vnd.databricks.v1+cell": {
     "cellMetadata": {
      "byteLimit": 2048000,
      "rowLimit": 10000
     },
     "inputWidgets": {},
     "nuid": "1f85a3eb-18c1-4335-8dcc-9dd9390f72b7",
     "showTitle": false,
     "title": ""
    }
   },
   "outputs": [],
   "source": [
    "from pyspark.sql import functions as F"
   ]
  },
  {
   "cell_type": "code",
   "execution_count": 0,
   "metadata": {
    "application/vnd.databricks.v1+cell": {
     "cellMetadata": {
      "byteLimit": 2048000,
      "rowLimit": 10000
     },
     "inputWidgets": {},
     "nuid": "58c21149-2124-41d8-bfae-6b5cfab4a5e0",
     "showTitle": false,
     "title": ""
    }
   },
   "outputs": [],
   "source": [
    "# Join customer and orders DataFrames\n",
    "customers_orders_df = customer_df.join(orders_df, customer_df['customer_id'] == orders_df['order_customer_id'])"
   ]
  },
  {
   "cell_type": "code",
   "execution_count": 0,
   "metadata": {
    "application/vnd.databricks.v1+cell": {
     "cellMetadata": {
      "byteLimit": 2048000,
      "rowLimit": 10000
     },
     "inputWidgets": {},
     "nuid": "d754a063-6279-4c19-8ba4-9c82e641708a",
     "showTitle": false,
     "title": ""
    }
   },
   "outputs": [
    {
     "output_type": "stream",
     "name": "stdout",
     "output_type": "stream",
     "text": [
      "+-----------+--------------+--------------+--------------+-----------------+-------------------------+-------------+--------------+----------------+--------+----------+-----------------+---------------+\n|customer_id|customer_fname|customer_lname|customer_email|customer_password|customer_street          |customer_city|customer_state|customer_zipcode|order_id|order_date|order_customer_id|order_status   |\n+-----------+--------------+--------------+--------------+-----------------+-------------------------+-------------+--------------+----------------+--------+----------+-----------------+---------------+\n|11599      |Mary          |Malone        |XXXXXXXXX     |XXXXXXXXX        |8708 Indian Horse Highway|Hickory      |NC            |28601           |1       |2013-07-25|11599            |CLOSED         |\n|256        |David         |Rodriguez     |XXXXXXXXX     |XXXXXXXXX        |7605 Tawny Horse Falls   |Chicago      |IL            |60625           |2       |2013-07-25|256              |PENDING_PAYMENT|\n|12111      |Amber         |Franco        |XXXXXXXXX     |XXXXXXXXX        |8766 Clear Prairie Line  |Santa Cruz   |CA            |95060           |3       |2013-07-25|12111            |COMPLETE       |\n|8827       |Brian         |Wilson        |XXXXXXXXX     |XXXXXXXXX        |8396 High Corners        |San Antonio  |TX            |78240           |4       |2013-07-25|8827             |CLOSED         |\n|11318      |Mary          |Henry         |XXXXXXXXX     |XXXXXXXXX        |3047 Silent Embers Maze  |Caguas       |PR            |725             |5       |2013-07-25|11318            |COMPLETE       |\n|7130       |Alice         |Smith         |XXXXXXXXX     |XXXXXXXXX        |8852 Iron Port           |Brooklyn     |NY            |11237           |6       |2013-07-25|7130             |COMPLETE       |\n|4530       |Mary          |Smith         |XXXXXXXXX     |XXXXXXXXX        |1073 Green Leaf Green    |Miami        |FL            |33161           |7       |2013-07-25|4530             |COMPLETE       |\n|2911       |Mary          |Smith         |XXXXXXXXX     |XXXXXXXXX        |9166 Golden Nectar Corner|Caguas       |PR            |725             |8       |2013-07-25|2911             |PROCESSING     |\n|5657       |Mary          |James         |XXXXXXXXX     |XXXXXXXXX        |1389 Dusty Circuit       |Lakewood     |OH            |44107           |9       |2013-07-25|5657             |PENDING_PAYMENT|\n|5648       |Joshua        |Smith         |XXXXXXXXX     |XXXXXXXXX        |864 Iron Spring Stead    |Memphis      |TN            |38111           |10      |2013-07-25|5648             |PENDING_PAYMENT|\n+-----------+--------------+--------------+--------------+-----------------+-------------------------+-------------+--------------+----------------+--------+----------+-----------------+---------------+\nonly showing top 10 rows\n\n"
     ]
    }
   ],
   "source": [
    "customers_orders_df.show(10, truncate=False)"
   ]
  },
  {
   "cell_type": "code",
   "execution_count": 0,
   "metadata": {
    "application/vnd.databricks.v1+cell": {
     "cellMetadata": {
      "byteLimit": 2048000,
      "rowLimit": 10000
     },
     "inputWidgets": {},
     "nuid": "2d481aab-ffdd-4547-84ef-d58925cbca47",
     "showTitle": false,
     "title": ""
    }
   },
   "outputs": [
    {
     "output_type": "stream",
     "name": "stdout",
     "output_type": "stream",
     "text": [
      "+-----------+--------+----------+---------------+\n|customer_id|order_id|order_date|   order_status|\n+-----------+--------+----------+---------------+\n|          1|   22945|2013-12-13|       COMPLETE|\n|          2|   33865|2014-02-18|       COMPLETE|\n|          2|   15192|2013-10-29|PENDING_PAYMENT|\n|          2|   57963|2013-08-02|        ON_HOLD|\n|          2|   67863|2013-11-30|       COMPLETE|\n|          3|   35158|2014-02-26|       COMPLETE|\n|          3|   57617|2014-07-24|       COMPLETE|\n|          3|   22646|2013-12-11|       COMPLETE|\n|          3|   23662|2013-12-19|       COMPLETE|\n|          3|   56178|2014-07-15|        PENDING|\n+-----------+--------+----------+---------------+\nonly showing top 10 rows\n\n"
     ]
    }
   ],
   "source": [
    "# Select and show specific order details\n",
    "customers_orders_df.select('customer_id', 'order_id', 'order_date', 'order_status').orderBy('customer_id').show(10)"
   ]
  },
  {
   "cell_type": "code",
   "execution_count": 0,
   "metadata": {
    "application/vnd.databricks.v1+cell": {
     "cellMetadata": {
      "byteLimit": 2048000,
      "rowLimit": 10000
     },
     "inputWidgets": {},
     "nuid": "b58fb274-e91b-44a2-b378-bd36119223aa",
     "showTitle": false,
     "title": ""
    }
   },
   "outputs": [],
   "source": [
    "# Create a struct for order details\n",
    "order_details_df = customers_orders_df.select('customer_id',F.struct('order_id', 'order_date', 'order_status').alias('order_details')).orderBy('customer_id')"
   ]
  },
  {
   "cell_type": "code",
   "execution_count": 0,
   "metadata": {
    "application/vnd.databricks.v1+cell": {
     "cellMetadata": {
      "byteLimit": 2048000,
      "rowLimit": 10000
     },
     "inputWidgets": {},
     "nuid": "a784660b-6e92-4b64-98b2-63ec6d1b7611",
     "showTitle": false,
     "title": ""
    }
   },
   "outputs": [
    {
     "output_type": "stream",
     "name": "stdout",
     "output_type": "stream",
     "text": [
      "+-----------+--------------------+\n|customer_id|       order_details|\n+-----------+--------------------+\n|          1|{22945, 2013-12-1...|\n|          2|{33865, 2014-02-1...|\n|          2|{15192, 2013-10-2...|\n|          2|{57963, 2013-08-0...|\n|          2|{67863, 2013-11-3...|\n|          3|{35158, 2014-02-2...|\n|          3|{57617, 2014-07-2...|\n|          3|{22646, 2013-12-1...|\n|          3|{23662, 2013-12-1...|\n|          3|{56178, 2014-07-1...|\n+-----------+--------------------+\nonly showing top 10 rows\n\n"
     ]
    }
   ],
   "source": [
    "order_details_df.show(10)"
   ]
  },
  {
   "cell_type": "code",
   "execution_count": 0,
   "metadata": {
    "application/vnd.databricks.v1+cell": {
     "cellMetadata": {
      "byteLimit": 2048000,
      "rowLimit": 10000
     },
     "inputWidgets": {},
     "nuid": "1d462509-59bb-4e2b-8b8e-6fd3c8da0a2e",
     "showTitle": false,
     "title": ""
    }
   },
   "outputs": [],
   "source": [
    "# Aggregate order details per customer\n",
    "final_df = order_details_df.groupBy('customer_id').agg(F.collect_list('order_details').alias('order_details')).orderBy('customer_id')"
   ]
  },
  {
   "cell_type": "code",
   "execution_count": 0,
   "metadata": {
    "application/vnd.databricks.v1+cell": {
     "cellMetadata": {
      "byteLimit": 2048000,
      "rowLimit": 10000
     },
     "inputWidgets": {},
     "nuid": "86c64536-6f12-4fb4-b8e4-fe5d89413675",
     "showTitle": false,
     "title": ""
    }
   },
   "outputs": [
    {
     "output_type": "stream",
     "name": "stdout",
     "output_type": "stream",
     "text": [
      "+-----------+----------------------------------------------------------------------------------------------------------------------------------+\n|customer_id|order_details                                                                                                                     |\n+-----------+----------------------------------------------------------------------------------------------------------------------------------+\n|1          |[{22945, 2013-12-13, COMPLETE}]                                                                                                   |\n|2          |[{15192, 2013-10-29, PENDING_PAYMENT}, {33865, 2014-02-18, COMPLETE}, {57963, 2013-08-02, ON_HOLD}, {67863, 2013-11-30, COMPLETE}]|\n+-----------+----------------------------------------------------------------------------------------------------------------------------------+\nonly showing top 2 rows\n\n"
     ]
    }
   ],
   "source": [
    "final_df.show(2, truncate=False)"
   ]
  },
  {
   "cell_type": "code",
   "execution_count": 0,
   "metadata": {
    "application/vnd.databricks.v1+cell": {
     "cellMetadata": {
      "byteLimit": 2048000,
      "rowLimit": 10000
     },
     "inputWidgets": {},
     "nuid": "7faf7bea-fc48-4431-82c1-f8aefd64fbd3",
     "showTitle": false,
     "title": ""
    }
   },
   "outputs": [],
   "source": [
    "\n",
    "final_df.coalesce(1).write.mode(\"overwrite\").json('dbfs:/FileStore/tables/Data/final')"
   ]
  },
  {
   "cell_type": "code",
   "execution_count": 0,
   "metadata": {
    "application/vnd.databricks.v1+cell": {
     "cellMetadata": {
      "byteLimit": 2048000,
      "rowLimit": 10000
     },
     "inputWidgets": {},
     "nuid": "bea76cd9-c8ed-4579-9352-962f88126c4e",
     "showTitle": false,
     "title": ""
    }
   },
   "outputs": [
    {
     "output_type": "display_data",
     "data": {
      "text/html": [
       "<style scoped>\n",
       "  .table-result-container {\n",
       "    max-height: 300px;\n",
       "    overflow: auto;\n",
       "  }\n",
       "  table, th, td {\n",
       "    border: 1px solid black;\n",
       "    border-collapse: collapse;\n",
       "  }\n",
       "  th, td {\n",
       "    padding: 5px;\n",
       "  }\n",
       "  th {\n",
       "    text-align: left;\n",
       "  }\n",
       "</style><div class='table-result-container'><table class='table-result'><thead style='background-color: white'><tr><th>path</th><th>name</th><th>size</th><th>modificationTime</th></tr></thead><tbody><tr><td>dbfs:/FileStore/tables/Data/final/_SUCCESS</td><td>_SUCCESS</td><td>0</td><td>1727679259000</td></tr><tr><td>dbfs:/FileStore/tables/Data/final/_committed_5690608636388892642</td><td>_committed_5690608636388892642</td><td>114</td><td>1727678070000</td></tr><tr><td>dbfs:/FileStore/tables/Data/final/_committed_6190298265112221589</td><td>_committed_6190298265112221589</td><td>214</td><td>1727678817000</td></tr><tr><td>dbfs:/FileStore/tables/Data/final/_committed_8323686024413630521</td><td>_committed_8323686024413630521</td><td>203</td><td>1727679259000</td></tr><tr><td>dbfs:/FileStore/tables/Data/final/_started_5690608636388892642</td><td>_started_5690608636388892642</td><td>0</td><td>1727678069000</td></tr><tr><td>dbfs:/FileStore/tables/Data/final/_started_6190298265112221589</td><td>_started_6190298265112221589</td><td>0</td><td>1727678816000</td></tr><tr><td>dbfs:/FileStore/tables/Data/final/_started_8323686024413630521</td><td>_started_8323686024413630521</td><td>0</td><td>1727679258000</td></tr><tr><td>dbfs:/FileStore/tables/Data/final/part-00000-tid-8323686024413630521-63ddcab8-4f31-4d08-a989-0a9b4ea66199-265-1-c000.json</td><td>part-00000-tid-8323686024413630521-63ddcab8-4f31-4d08-a989-0a9b4ea66199-265-1-c000.json</td><td>5475226</td><td>1727679258000</td></tr></tbody></table></div>"
      ]
     },
     "metadata": {
      "application/vnd.databricks.v1+output": {
       "addedWidgets": {},
       "aggData": [],
       "aggError": "",
       "aggOverflow": false,
       "aggSchema": [],
       "aggSeriesLimitReached": false,
       "aggType": "",
       "arguments": {},
       "columnCustomDisplayInfos": {},
       "data": [
        [
         "dbfs:/FileStore/tables/Data/final/_SUCCESS",
         "_SUCCESS",
         0,
         1727679259000
        ],
        [
         "dbfs:/FileStore/tables/Data/final/_committed_5690608636388892642",
         "_committed_5690608636388892642",
         114,
         1727678070000
        ],
        [
         "dbfs:/FileStore/tables/Data/final/_committed_6190298265112221589",
         "_committed_6190298265112221589",
         214,
         1727678817000
        ],
        [
         "dbfs:/FileStore/tables/Data/final/_committed_8323686024413630521",
         "_committed_8323686024413630521",
         203,
         1727679259000
        ],
        [
         "dbfs:/FileStore/tables/Data/final/_started_5690608636388892642",
         "_started_5690608636388892642",
         0,
         1727678069000
        ],
        [
         "dbfs:/FileStore/tables/Data/final/_started_6190298265112221589",
         "_started_6190298265112221589",
         0,
         1727678816000
        ],
        [
         "dbfs:/FileStore/tables/Data/final/_started_8323686024413630521",
         "_started_8323686024413630521",
         0,
         1727679258000
        ],
        [
         "dbfs:/FileStore/tables/Data/final/part-00000-tid-8323686024413630521-63ddcab8-4f31-4d08-a989-0a9b4ea66199-265-1-c000.json",
         "part-00000-tid-8323686024413630521-63ddcab8-4f31-4d08-a989-0a9b4ea66199-265-1-c000.json",
         5475226,
         1727679258000
        ]
       ],
       "datasetInfos": [],
       "dbfsResultPath": null,
       "isJsonSchema": true,
       "metadata": {
        "isDbfsCommandResult": false
       },
       "overflow": false,
       "plotOptions": {
        "customPlotOptions": {},
        "displayType": "table",
        "pivotAggregation": null,
        "pivotColumns": null,
        "xColumns": null,
        "yColumns": null
       },
       "removedWidgets": [],
       "schema": [
        {
         "metadata": "{}",
         "name": "path",
         "type": "\"string\""
        },
        {
         "metadata": "{}",
         "name": "name",
         "type": "\"string\""
        },
        {
         "metadata": "{}",
         "name": "size",
         "type": "\"long\""
        },
        {
         "metadata": "{}",
         "name": "modificationTime",
         "type": "\"long\""
        }
       ],
       "type": "table"
      }
     },
     "output_type": "display_data"
    }
   ],
   "source": [
    "%fs ls dbfs:/FileStore/tables/Data/final"
   ]
  },
  {
   "cell_type": "code",
   "execution_count": 0,
   "metadata": {
    "application/vnd.databricks.v1+cell": {
     "cellMetadata": {
      "byteLimit": 2048000,
      "rowLimit": 10000
     },
     "inputWidgets": {},
     "nuid": "4973f5b2-ab04-478e-8cf9-026d0ee35485",
     "showTitle": false,
     "title": ""
    }
   },
   "outputs": [],
   "source": [
    "# Join customer details with order items\n",
    "customer_details = customer_df.join(orders_df, customer_df['customer_id'] == orders_df['order_customer_id']).join(order_items_df, orders_df['order_id'] == order_items_df['order_item_order_id'])"
   ]
  },
  {
   "cell_type": "code",
   "execution_count": 0,
   "metadata": {
    "application/vnd.databricks.v1+cell": {
     "cellMetadata": {
      "byteLimit": 2048000,
      "rowLimit": 10000
     },
     "inputWidgets": {},
     "nuid": "ef4c936c-29ab-4526-8f59-7ecb3971e48a",
     "showTitle": false,
     "title": ""
    }
   },
   "outputs": [],
   "source": [
    "# Denormalize data\n",
    "denorm_df = (customer_details\n",
    "    .select(\n",
    "        'customer_id', \n",
    "        'customer_fname', \n",
    "        'customer_lname', \n",
    "        'customer_email',\n",
    "        'order_id', \n",
    "        'order_date', \n",
    "        'order_status',\n",
    "        F.struct('order_item_id', 'order_item_product_id', 'order_item_subtotal').alias('order_item_details')\n",
    "    )\n",
    "    .groupBy(\n",
    "        'customer_id', \n",
    "        'customer_fname', \n",
    "        'customer_lname', \n",
    "        'customer_email', \n",
    "        'order_id', \n",
    "        'order_date', \n",
    "        'order_status'\n",
    "    )\n",
    "    .agg(F.collect_list('order_item_details').alias('order_item_details'))\n",
    "    .select(\n",
    "        'customer_id', \n",
    "        'customer_fname', \n",
    "        'customer_lname', \n",
    "        'customer_email',\n",
    "        F.struct('order_id', 'order_date', 'order_status', 'order_item_details').alias('order_details')\n",
    "    )\n",
    "    .groupBy('customer_id', 'customer_fname', 'customer_lname', 'customer_email')\n",
    "    .agg(F.collect_list('order_details').alias('order_details'))\n",
    "    .orderBy('customer_id')\n",
    ")"
   ]
  },
  {
   "cell_type": "code",
   "execution_count": 0,
   "metadata": {
    "application/vnd.databricks.v1+cell": {
     "cellMetadata": {
      "byteLimit": 2048000,
      "rowLimit": 10000
     },
     "inputWidgets": {},
     "nuid": "3dc785d3-a667-4b45-9011-02cf6c4e26bc",
     "showTitle": false,
     "title": ""
    }
   },
   "outputs": [
    {
     "output_type": "stream",
     "name": "stdout",
     "output_type": "stream",
     "text": [
      "root\n |-- customer_id: integer (nullable = true)\n |-- customer_fname: string (nullable = true)\n |-- customer_lname: string (nullable = true)\n |-- customer_email: string (nullable = true)\n |-- order_details: array (nullable = false)\n |    |-- element: struct (containsNull = false)\n |    |    |-- order_id: integer (nullable = true)\n |    |    |-- order_date: date (nullable = true)\n |    |    |-- order_status: string (nullable = true)\n |    |    |-- order_item_details: array (nullable = false)\n |    |    |    |-- element: struct (containsNull = false)\n |    |    |    |    |-- order_item_id: integer (nullable = true)\n |    |    |    |    |-- order_item_product_id: integer (nullable = true)\n |    |    |    |    |-- order_item_subtotal: float (nullable = true)\n\n"
     ]
    }
   ],
   "source": [
    "denorm_df.printSchema()"
   ]
  },
  {
   "cell_type": "code",
   "execution_count": 0,
   "metadata": {
    "application/vnd.databricks.v1+cell": {
     "cellMetadata": {
      "byteLimit": 2048000,
      "rowLimit": 10000
     },
     "inputWidgets": {},
     "nuid": "0cdaf0a6-8993-4b5a-a167-6d2c5666958e",
     "showTitle": false,
     "title": ""
    }
   },
   "outputs": [],
   "source": [
    "\n",
    "denorm_df.coalesce(1).write.mode('overwrite').json('dbfs:/FileStore/tables/Data/denorm')"
   ]
  },
  {
   "cell_type": "code",
   "execution_count": 0,
   "metadata": {
    "application/vnd.databricks.v1+cell": {
     "cellMetadata": {
      "byteLimit": 2048000,
      "rowLimit": 10000
     },
     "inputWidgets": {},
     "nuid": "a3062066-d139-4773-b027-235f16ccd763",
     "showTitle": false,
     "title": ""
    }
   },
   "outputs": [
    {
     "output_type": "display_data",
     "data": {
      "text/html": [
       "<style scoped>\n",
       "  .table-result-container {\n",
       "    max-height: 300px;\n",
       "    overflow: auto;\n",
       "  }\n",
       "  table, th, td {\n",
       "    border: 1px solid black;\n",
       "    border-collapse: collapse;\n",
       "  }\n",
       "  th, td {\n",
       "    padding: 5px;\n",
       "  }\n",
       "  th {\n",
       "    text-align: left;\n",
       "  }\n",
       "</style><div class='table-result-container'><table class='table-result'><thead style='background-color: white'><tr><th>path</th><th>name</th><th>size</th><th>modificationTime</th></tr></thead><tbody><tr><td>dbfs:/FileStore/tables/Data/denorm/_SUCCESS</td><td>_SUCCESS</td><td>0</td><td>1727679271000</td></tr><tr><td>dbfs:/FileStore/tables/Data/denorm/_committed_3019955075359224903</td><td>_committed_3019955075359224903</td><td>203</td><td>1727679271000</td></tr><tr><td>dbfs:/FileStore/tables/Data/denorm/_committed_6507255124505320869</td><td>_committed_6507255124505320869</td><td>214</td><td>1727678829000</td></tr><tr><td>dbfs:/FileStore/tables/Data/denorm/_committed_7516740248076485415</td><td>_committed_7516740248076485415</td><td>114</td><td>1727678291000</td></tr><tr><td>dbfs:/FileStore/tables/Data/denorm/_started_3019955075359224903</td><td>_started_3019955075359224903</td><td>0</td><td>1727679269000</td></tr><tr><td>dbfs:/FileStore/tables/Data/denorm/_started_6507255124505320869</td><td>_started_6507255124505320869</td><td>0</td><td>1727678827000</td></tr><tr><td>dbfs:/FileStore/tables/Data/denorm/_started_7516740248076485415</td><td>_started_7516740248076485415</td><td>0</td><td>1727678289000</td></tr><tr><td>dbfs:/FileStore/tables/Data/denorm/part-00000-tid-3019955075359224903-486ecdd6-4482-41c6-bc79-d9cdae15a218-284-1-c000.json</td><td>part-00000-tid-3019955075359224903-486ecdd6-4482-41c6-bc79-d9cdae15a218-284-1-c000.json</td><td>20949617</td><td>1727679271000</td></tr></tbody></table></div>"
      ]
     },
     "metadata": {
      "application/vnd.databricks.v1+output": {
       "addedWidgets": {},
       "aggData": [],
       "aggError": "",
       "aggOverflow": false,
       "aggSchema": [],
       "aggSeriesLimitReached": false,
       "aggType": "",
       "arguments": {},
       "columnCustomDisplayInfos": {},
       "data": [
        [
         "dbfs:/FileStore/tables/Data/denorm/_SUCCESS",
         "_SUCCESS",
         0,
         1727679271000
        ],
        [
         "dbfs:/FileStore/tables/Data/denorm/_committed_3019955075359224903",
         "_committed_3019955075359224903",
         203,
         1727679271000
        ],
        [
         "dbfs:/FileStore/tables/Data/denorm/_committed_6507255124505320869",
         "_committed_6507255124505320869",
         214,
         1727678829000
        ],
        [
         "dbfs:/FileStore/tables/Data/denorm/_committed_7516740248076485415",
         "_committed_7516740248076485415",
         114,
         1727678291000
        ],
        [
         "dbfs:/FileStore/tables/Data/denorm/_started_3019955075359224903",
         "_started_3019955075359224903",
         0,
         1727679269000
        ],
        [
         "dbfs:/FileStore/tables/Data/denorm/_started_6507255124505320869",
         "_started_6507255124505320869",
         0,
         1727678827000
        ],
        [
         "dbfs:/FileStore/tables/Data/denorm/_started_7516740248076485415",
         "_started_7516740248076485415",
         0,
         1727678289000
        ],
        [
         "dbfs:/FileStore/tables/Data/denorm/part-00000-tid-3019955075359224903-486ecdd6-4482-41c6-bc79-d9cdae15a218-284-1-c000.json",
         "part-00000-tid-3019955075359224903-486ecdd6-4482-41c6-bc79-d9cdae15a218-284-1-c000.json",
         20949617,
         1727679271000
        ]
       ],
       "datasetInfos": [],
       "dbfsResultPath": null,
       "isJsonSchema": true,
       "metadata": {
        "isDbfsCommandResult": false
       },
       "overflow": false,
       "plotOptions": {
        "customPlotOptions": {},
        "displayType": "table",
        "pivotAggregation": null,
        "pivotColumns": null,
        "xColumns": null,
        "yColumns": null
       },
       "removedWidgets": [],
       "schema": [
        {
         "metadata": "{}",
         "name": "path",
         "type": "\"string\""
        },
        {
         "metadata": "{}",
         "name": "name",
         "type": "\"string\""
        },
        {
         "metadata": "{}",
         "name": "size",
         "type": "\"long\""
        },
        {
         "metadata": "{}",
         "name": "modificationTime",
         "type": "\"long\""
        }
       ],
       "type": "table"
      }
     },
     "output_type": "display_data"
    }
   ],
   "source": [
    "%fs ls dbfs:/FileStore/tables/Data/denorm"
   ]
  },
  {
   "cell_type": "code",
   "execution_count": 0,
   "metadata": {
    "application/vnd.databricks.v1+cell": {
     "cellMetadata": {
      "byteLimit": 2048000,
      "rowLimit": 10000
     },
     "inputWidgets": {},
     "nuid": "6197d74b-935f-4931-a7eb-5114970645d8",
     "showTitle": false,
     "title": ""
    }
   },
   "outputs": [],
   "source": [
    "# Read the JSON file\n",
    "json_df = spark.read.format(\"json\").load('dbfs:/FileStore/tables/Data/denorm/')"
   ]
  },
  {
   "cell_type": "code",
   "execution_count": 0,
   "metadata": {
    "application/vnd.databricks.v1+cell": {
     "cellMetadata": {
      "byteLimit": 2048000,
      "rowLimit": 10000
     },
     "inputWidgets": {},
     "nuid": "7dda6213-ab85-4ed2-906a-92f3625b620f",
     "showTitle": false,
     "title": ""
    }
   },
   "outputs": [
    {
     "output_type": "stream",
     "name": "stdout",
     "output_type": "stream",
     "text": [
      "+--------------+--------------+-----------+--------------+--------------------+\n|customer_email|customer_fname|customer_id|customer_lname|       order_details|\n+--------------+--------------+-----------+--------------+--------------------+\n|     XXXXXXXXX|       Richard|          1|     Hernandez|[{2013-12-13, 229...|\n|     XXXXXXXXX|          Mary|          2|       Barrett|[{2013-08-02, 579...|\n|     XXXXXXXXX|           Ann|          3|         Smith|[{2014-07-15, 561...|\n|     XXXXXXXXX|          Mary|          4|         Jones|[{2014-05-28, 493...|\n|     XXXXXXXXX|        Robert|          5|        Hudson|[{2014-03-06, 364...|\n|     XXXXXXXXX|          Mary|          6|         Smith|[{2013-09-09, 748...|\n|     XXXXXXXXX|       Melissa|          7|        Wilcox|[{2014-03-01, 355...|\n|     XXXXXXXXX|         Megan|          8|         Smith|[{2013-09-16, 849...|\n|     XXXXXXXXX|          Mary|          9|         Perez|[{2014-07-03, 543...|\n|     XXXXXXXXX|       Melissa|         10|         Smith|[{2014-05-01, 452...|\n|     XXXXXXXXX|          Mary|         11|       Huffman|[{2013-11-11, 176...|\n|     XXXXXXXXX|   Christopher|         12|         Smith|[{2013-10-10, 597...|\n|     XXXXXXXXX|          Mary|         13|       Baldwin|[{2013-12-11, 227...|\n|     XXXXXXXXX|     Katherine|         14|         Smith|[{2013-12-01, 210...|\n|     XXXXXXXXX|          Jane|         15|          Luna|[{2014-05-21, 483...|\n|     XXXXXXXXX|       Tiffany|         16|         Smith|[{2014-04-09, 418...|\n|     XXXXXXXXX|          Mary|         17|      Robinson|[{2013-07-29, 789...|\n|     XXXXXXXXX|        Robert|         18|         Smith|[{2013-09-06, 691...|\n|     XXXXXXXXX|     Stephanie|         19|      Mitchell|[{2013-09-01, 612...|\n|     XXXXXXXXX|          Mary|         20|         Ellis|[{2014-07-21, 572...|\n+--------------+--------------+-----------+--------------+--------------------+\nonly showing top 20 rows\n\n"
     ]
    }
   ],
   "source": [
    "json_df.show()"
   ]
  },
  {
   "cell_type": "code",
   "execution_count": 0,
   "metadata": {
    "application/vnd.databricks.v1+cell": {
     "cellMetadata": {
      "byteLimit": 2048000,
      "rowLimit": 10000
     },
     "inputWidgets": {},
     "nuid": "84f0b578-0771-4dae-9422-bd5c10ed1833",
     "showTitle": false,
     "title": ""
    }
   },
   "outputs": [],
   "source": [
    "# Flatten the nested JSON structure and extract order and order item details\n",
    "flatten = (json_df\n",
    "    .select('customer_id', 'customer_fname',\n",
    "            F.explode('order_details').alias('order_details'))  # Exploding order details\n",
    "    .select('customer_id', 'customer_fname',\n",
    "            F.col('order_details.order_date').alias('order_date'),\n",
    "            F.col('order_details.order_id').alias('order_id'),\n",
    "            F.col('order_details.order_status').alias('order_status'),\n",
    "            F.explode('order_details.order_item_details').alias('order_item_details'))  # Exploding order item details\n",
    "    .select('customer_id', 'customer_fname', 'order_date', 'order_id', \n",
    "            'order_status', 'order_item_details.order_item_id',\n",
    "            'order_item_details.order_item_product_id', \n",
    "            'order_item_details.order_item_subtotal')\n",
    ")"
   ]
  },
  {
   "cell_type": "code",
   "execution_count": 0,
   "metadata": {
    "application/vnd.databricks.v1+cell": {
     "cellMetadata": {
      "byteLimit": 2048000,
      "rowLimit": 10000
     },
     "inputWidgets": {},
     "nuid": "ba07357e-a27a-479b-83a7-bc9ab0d95d6a",
     "showTitle": false,
     "title": ""
    }
   },
   "outputs": [
    {
     "output_type": "stream",
     "name": "stdout",
     "output_type": "stream",
     "text": [
      "+-----------+--------------+----------+--------+---------------+-------------+---------------------+-------------------+\n|customer_id|customer_fname|order_date|order_id|   order_status|order_item_id|order_item_product_id|order_item_subtotal|\n+-----------+--------------+----------+--------+---------------+-------------+---------------------+-------------------+\n|          1|       Richard|2013-12-13|   22945|       COMPLETE|        57439|                  191|             499.95|\n|          2|          Mary|2013-08-02|   57963|        ON_HOLD|       145023|                 1014|             149.94|\n|          2|          Mary|2013-08-02|   57963|        ON_HOLD|       145022|                 1014|              99.96|\n|          2|          Mary|2013-08-02|   57963|        ON_HOLD|       145021|                  627|             199.95|\n|          2|          Mary|2013-08-02|   57963|        ON_HOLD|       145020|                 1073|             199.99|\n|          2|          Mary|2013-08-02|   57963|        ON_HOLD|       145019|                  365|             119.98|\n|          2|          Mary|2014-02-18|   33865|       COMPLETE|        84538|                  502|               50.0|\n|          2|          Mary|2014-02-18|   33865|       COMPLETE|        84537|                 1073|             199.99|\n|          2|          Mary|2014-02-18|   33865|       COMPLETE|        84536|                  957|             299.98|\n|          2|          Mary|2013-10-29|   15192|PENDING_PAYMENT|        38007|                 1014|              99.96|\n+-----------+--------------+----------+--------+---------------+-------------+---------------------+-------------------+\nonly showing top 10 rows\n\n"
     ]
    }
   ],
   "source": [
    "flatten.show(10)"
   ]
  },
  {
   "cell_type": "code",
   "execution_count": 0,
   "metadata": {
    "application/vnd.databricks.v1+cell": {
     "cellMetadata": {
      "byteLimit": 2048000,
      "rowLimit": 10000
     },
     "inputWidgets": {},
     "nuid": "6708d76f-18d7-4ede-b309-c93dc3d7727e",
     "showTitle": false,
     "title": ""
    }
   },
   "outputs": [],
   "source": [
    "# Calculate revenue grouped by order month\n",
    "revenue_group_df = flatten.select('customer_id', 'customer_fname', 'order_date', \n",
    "               F.to_date('order_date', \"yyyy-MM-dd\").alias(\"order_date_converted\"),\n",
    "               'order_status', 'order_item_subtotal') \\\n",
    "    .filter(\"order_status IN ('COMPLETE', 'CLOSED')\") \\\n",
    "    .groupBy(F.date_format('order_date_converted', 'yyyy-MM').alias('order_month')) \\\n",
    "    .agg(F.sum('order_item_subtotal').alias('Revenue')) \\\n",
    "    .orderBy('order_month')"
   ]
  },
  {
   "cell_type": "code",
   "execution_count": 0,
   "metadata": {
    "application/vnd.databricks.v1+cell": {
     "cellMetadata": {
      "byteLimit": 2048000,
      "rowLimit": 10000
     },
     "inputWidgets": {},
     "nuid": "fb5b4ed5-8fcf-4ab2-8a8c-0fb6a8738b5c",
     "showTitle": false,
     "title": ""
    }
   },
   "outputs": [
    {
     "output_type": "stream",
     "name": "stdout",
     "output_type": "stream",
     "text": [
      "+-----------+------------------+\n|order_month|           Revenue|\n+-----------+------------------+\n|    2013-07| 333465.4500000003|\n|    2013-08|1221828.9000000027|\n|    2013-09|1302255.8000000028|\n|    2013-10|1171686.9200000018|\n|    2013-11|1379935.3300000008|\n|    2013-12| 1277719.600000003|\n|    2014-01|1230221.7400000019|\n|    2014-02|1217770.0900000029|\n|    2014-03|1271350.9700000028|\n|    2014-04|1249723.5200000028|\n+-----------+------------------+\nonly showing top 10 rows\n\n"
     ]
    }
   ],
   "source": [
    "revenue_group_df.show(10)"
   ]
  }
 ],
 "metadata": {
  "application/vnd.databricks.v1+notebook": {
   "dashboards": [],
   "environmentMetadata": null,
   "language": "python",
   "notebookMetadata": {
    "mostRecentlyExecutedCommandWithImplicitDF": {
     "commandId": 3632474061843018,
     "dataframes": [
      "_sqldf"
     ]
    },
    "pythonIndentUnit": 4
   },
   "notebookName": "Data Processing and Analysis using Spark",
   "widgets": {}
  }
 },
 "nbformat": 4,
 "nbformat_minor": 0
}
